{
 "cells": [
  {
   "cell_type": "markdown",
   "metadata": {},
   "source": [
    "4.- Desarrolle una aplicación que permita identificar si una cadena introducida por teclado es \n",
    "un palíndromo ( oso es palíndromo )"
   ]
  },
  {
   "cell_type": "code",
   "execution_count": 1,
   "metadata": {},
   "outputs": [
    {
     "name": "stdout",
     "output_type": "stream",
     "text": [
      "oso\n",
      "oso\n",
      "Es un paluindromo\n"
     ]
    }
   ],
   "source": [
    "cadena = input(\"Introduzca una palabra:\")\n",
    "\n",
    "cadena = cadena.replace(\" \", \"\").lower()\n",
    "print(cadena)\n",
    "\n",
    "invertido = cadena[::-1]\n",
    "print(invertido)\n",
    "\n",
    "if cadena == invertido:\n",
    "    print(\"Es un paluindromo\")\n",
    "else:\n",
    "    print(\"No es un palindromo\")"
   ]
  },
  {
   "cell_type": "markdown",
   "metadata": {},
   "source": [
    "1.- Desarrolle una aplicación que calcule el factorial de un numero entero introducido por \n",
    "teclado "
   ]
  },
  {
   "cell_type": "code",
   "execution_count": 2,
   "metadata": {},
   "outputs": [
    {
     "name": "stdout",
     "output_type": "stream",
     "text": [
      "El factorial de  5 es: \n",
      "120\n"
     ]
    }
   ],
   "source": [
    "numero = int(input(\"Introduzca un numero: \"))\n",
    "print(\"El factorial de \",numero,\"es: \")\n",
    "factorial = 1\n",
    "\n",
    "for i in range (1,numero+1):\n",
    "    factorial = factorial * i\n",
    "\n",
    "print(factorial)"
   ]
  },
  {
   "cell_type": "markdown",
   "metadata": {},
   "source": [
    "2.- Desarrolle una aplicación que determine si un numero introducido por teclado es primo o \n",
    "no"
   ]
  },
  {
   "cell_type": "code",
   "execution_count": 4,
   "metadata": {},
   "outputs": [
    {
     "name": "stdout",
     "output_type": "stream",
     "text": [
      "7\n",
      "El numero es primo\n"
     ]
    }
   ],
   "source": [
    "numero= int(input(\"Introduzca un numero: \"))\n",
    "print(numero)\n",
    "verifi = 0\n",
    "\n",
    "for i in range(2,numero):\n",
    "  \n",
    "  if numero % i == 0:\n",
    "    verifi +=1\n",
    "\n",
    "\n",
    "if verifi > 0 :\n",
    "  print(\"El numero no es primo\" )\n",
    "else:\n",
    "  print(\"El numero es primo\")"
   ]
  },
  {
   "cell_type": "markdown",
   "metadata": {},
   "source": [
    "3.- Desarrolle una aplicación que permita ingresar diferentes números por teclado con un limite \n",
    "definido inicialmente (no menor a 3 números) y determine cual de ellos es el mayor y el menor"
   ]
  },
  {
   "cell_type": "code",
   "execution_count": 5,
   "metadata": {},
   "outputs": [
    {
     "name": "stdout",
     "output_type": "stream",
     "text": [
      "El rango deber ser mayor 2\n"
     ]
    }
   ],
   "source": [
    "rango = int(input(\"Introduzca un rango mayor a 2: \"))\n",
    "\n",
    "\n",
    "if rango > 2:\n",
    "\n",
    "    numeros = []\n",
    "    for i in range(rango):\n",
    "\n",
    "        num = int(input(\"Ingrese el numero: \"))\n",
    "\n",
    "        numeros.append(num)\n",
    "    \n",
    "    maximo = max(numeros)\n",
    "    minimo = min(numeros)\n",
    "    \n",
    "    print(\"El numero mayor es:\", maximo)\n",
    "    print(\"El numero menor es:\", minimo)\n",
    "    \n",
    "else:\n",
    "    print(\"El rango deber ser mayor 2\")"
   ]
  },
  {
   "cell_type": "markdown",
   "metadata": {},
   "source": [
    "5.- desarrolle una aplicación que permita introducir 7 números por teclado y determine cual de \n",
    "ellos se repite más veces y cuantas."
   ]
  },
  {
   "cell_type": "code",
   "execution_count": 6,
   "metadata": {},
   "outputs": [
    {
     "name": "stdout",
     "output_type": "stream",
     "text": [
      "El numero mas repetido es :  1\n"
     ]
    }
   ],
   "source": [
    "numeros = []\n",
    "for i in range(7):\n",
    "    num = int(input(\"Ingrese el numero\"))\n",
    "    numeros.append(num)\n",
    "\n",
    "aux = 0\n",
    "res = 0\n",
    "aux2 = 0\n",
    "\n",
    "for numero in numeros:\n",
    "\n",
    "    repe = 0\n",
    "\n",
    "    for num2 in numeros:\n",
    "        if num2 == numero:\n",
    "                #aux = aux + 1\n",
    "                repe += 1\n",
    "\n",
    "    if repe > aux:\n",
    "        aux = repe\n",
    "        res = numero\n",
    "    \n",
    "print(\"El numero mas repetido es : \" ,res)\n"
   ]
  },
  {
   "cell_type": "markdown",
   "metadata": {},
   "source": [
    "7.- Desarrolla una aplicación que ordene números a través del método burbuja."
   ]
  },
  {
   "cell_type": "code",
   "execution_count": 7,
   "metadata": {},
   "outputs": [
    {
     "ename": "SyntaxError",
     "evalue": "incomplete input (3505136074.py, line 13)",
     "output_type": "error",
     "traceback": [
      "\u001b[1;36m  Cell \u001b[1;32mIn[7], line 13\u001b[1;36m\u001b[0m\n\u001b[1;33m    \u001b[0m\n\u001b[1;37m    ^\u001b[0m\n\u001b[1;31mSyntaxError\u001b[0m\u001b[1;31m:\u001b[0m incomplete input\n"
     ]
    }
   ],
   "source": [
    "rango = int(input(\"Introduzca un rango: \"))\n",
    "\n",
    "numeros = []\n",
    "for i in range(rango):\n",
    "    num = int(input(\"Ingrese el numero\"))\n",
    "    numeros.append(num)\n",
    "\n",
    "\n",
    "for i in range(numeros):\n",
    "        for j in range(0, numeros-i-1):\n",
    "            if numeros[j] > numeros[j+1]:\n",
    "                 #numeros[j], numeros[j+1] = numeros[j+1], numeros[j+1] \n",
    "                 "
   ]
  }
 ],
 "metadata": {
  "kernelspec": {
   "display_name": "env-PrimerEntorno",
   "language": "python",
   "name": "python3"
  },
  "language_info": {
   "codemirror_mode": {
    "name": "ipython",
    "version": 3
   },
   "file_extension": ".py",
   "mimetype": "text/x-python",
   "name": "python",
   "nbconvert_exporter": "python",
   "pygments_lexer": "ipython3",
   "version": "3.12.1"
  }
 },
 "nbformat": 4,
 "nbformat_minor": 2
}
