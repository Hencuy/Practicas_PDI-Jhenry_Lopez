{
 "cells": [
  {
   "cell_type": "code",
   "execution_count": 1,
   "metadata": {},
   "outputs": [
    {
     "name": "stderr",
     "output_type": "stream",
     "text": [
      "c:\\Users\\henry\\miniconda3\\envs\\env-PrimerEntorno\\Lib\\site-packages\\google\\protobuf\\symbol_database.py:55: UserWarning: SymbolDatabase.GetPrototype() is deprecated. Please use message_factory.GetMessageClass() instead. SymbolDatabase.GetPrototype() will be removed soon.\n",
      "  warnings.warn('SymbolDatabase.GetPrototype() is deprecated. Please '\n"
     ]
    }
   ],
   "source": [
    "import cv2\n",
    "import os\n",
    "import imutils\n",
    "import mediapipe as mp\n",
    "\n",
    "personName = 'Hola'\n",
    "dataPath = 'D:\\\\5toSemestre\\\\Proce Digital Imagenes\\\\ProyectosFinales\\\\SistemaBiometrico\\\\Fotos'\n",
    "\n",
    "personPath = os.path.join(dataPath, personName)\n",
    "\n",
    "if not os.path.exists(personPath):\n",
    "    print('Carpeta creada:', personPath)\n",
    "    os.makedirs(personPath)\n",
    "\n",
    "cap = cv2.VideoCapture(0, cv2.CAP_DSHOW)\n",
    "# cap = cv2.VideoCapture('Video.mp4')\n",
    "\n",
    "count = 0\n",
    "\n",
    "# Inicializa MediaPipe Face Mesh\n",
    "mp_face_mesh = mp.solutions.face_mesh\n",
    "face_mesh = mp_face_mesh.FaceMesh(static_image_mode=False, max_num_faces=1, min_detection_confidence=0.5)\n",
    "mp_drawing = mp.solutions.drawing_utils\n",
    "drawing_spec = mp_drawing.DrawingSpec(thickness=1, circle_radius=1)\n",
    "\n",
    "while True:\n",
    "    ret, frame = cap.read()\n",
    "    if not ret:\n",
    "        break\n",
    "\n",
    "    frame = imutils.resize(frame, width=640)\n",
    "    auxFrame = frame.copy()\n",
    "\n",
    "    # Convertir la imagen a RGB para MediaPipe\n",
    "    image_rgb = cv2.cvtColor(frame, cv2.COLOR_BGR2RGB)\n",
    "    results = face_mesh.process(image_rgb)\n",
    "\n",
    "    if results.multi_face_landmarks:\n",
    "        for face_landmarks in results.multi_face_landmarks:\n",
    "            # Dibujar la malla facial\n",
    "            mp_drawing.draw_landmarks(\n",
    "                image=frame,\n",
    "                landmark_list=face_landmarks,\n",
    "                connections=mp_face_mesh.FACEMESH_TESSELATION,\n",
    "                landmark_drawing_spec=drawing_spec,\n",
    "                connection_drawing_spec=drawing_spec)\n",
    "\n",
    "            # Obtener las coordenadas de la caja delimitadora del rostro\n",
    "            h, w, _ = frame.shape\n",
    "            face_coords = [(int(point.x * w), int(point.y * h)) for point in face_landmarks.landmark]\n",
    "            x_min = min([coord[0] for coord in face_coords])\n",
    "            y_min = min([coord[1] for coord in face_coords])\n",
    "            x_max = max([coord[0] for coord in face_coords])\n",
    "            y_max = max([coord[1] for coord in face_coords])\n",
    "\n",
    "            # Extraer y guardar el rostro\n",
    "            rostro = auxFrame[y_min:y_max, x_min:x_max]\n",
    "            if rostro.size != 0:\n",
    "                rostro = cv2.resize(rostro, (250, 250), interpolation=cv2.INTER_CUBIC)\n",
    "                cv2.imwrite(os.path.join(personPath, f'rostro_{count}.jpg'), rostro)\n",
    "                count += 1\n",
    "\n",
    "    # Mostrar la cantidad de fotos tomadas en la pantalla\n",
    "    cv2.putText(frame, \"Fotos tomadas: {}\".format(count), (10, 30), cv2.FONT_HERSHEY_SIMPLEX, 0.8, (0, 255, 0), 2)\n",
    "\n",
    "    cv2.imshow('MediaPipe Face Mesh', frame)\n",
    "\n",
    "    k = cv2.waitKey(1)\n",
    "    if k == 27 or count >= 300:\n",
    "        break\n",
    "\n",
    "cap.release()\n",
    "cv2.destroyAllWindows()\n"
   ]
  }
 ],
 "metadata": {
  "kernelspec": {
   "display_name": "env-PrimerEntorno",
   "language": "python",
   "name": "python3"
  },
  "language_info": {
   "codemirror_mode": {
    "name": "ipython",
    "version": 3
   },
   "file_extension": ".py",
   "mimetype": "text/x-python",
   "name": "python",
   "nbconvert_exporter": "python",
   "pygments_lexer": "ipython3",
   "version": "3.12.2"
  }
 },
 "nbformat": 4,
 "nbformat_minor": 2
}
